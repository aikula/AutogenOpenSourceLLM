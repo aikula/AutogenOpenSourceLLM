{
 "cells": [
  {
   "cell_type": "code",
   "execution_count": 3,
   "id": "e6601dca-f1f5-418e-ac13-ef0a7a9b85ed",
   "metadata": {},
   "outputs": [
    {
     "data": {
      "text/plain": [
       "True"
      ]
     },
     "execution_count": 3,
     "metadata": {},
     "output_type": "execute_result"
    }
   ],
   "source": [
    "import torch\n",
    "torch.cuda.is_available()"
   ]
  },
  {
   "cell_type": "markdown",
   "id": "5deba277-59d2-40a8-9dd9-4c49cb298ffa",
   "metadata": {},
   "source": [
    "# API Example"
   ]
  },
  {
   "cell_type": "code",
   "execution_count": 1,
   "id": "1a9ad658-fada-41d6-a6c5-3c0afce4622d",
   "metadata": {},
   "outputs": [],
   "source": [
    "import requests\n",
    "\n",
    "# For local streaming, the websockets are hosted without ssl - http://\n",
    "HOST = '155.4.42.6:40263'\n",
    "URI = f'http://{HOST}/api/v1/generate'\n",
    "\n",
    "# For reverse-proxied streaming, the remote will likely host with ssl - https://\n",
    "# URI = 'https://your-uri-here.trycloudflare.com/api/v1/generate'\n",
    "\n",
    "\n",
    "def run(prompt):\n",
    "    request = {\n",
    "        'prompt': prompt,\n",
    "        'max_new_tokens': 250,\n",
    "        'auto_max_new_tokens': False,\n",
    "        'max_tokens_second': 0,\n",
    "\n",
    "        # Generation params. If 'preset' is set to different than 'None', the values\n",
    "        # in presets/preset-name.yaml are used instead of the individual numbers.\n",
    "        'preset': 'None',\n",
    "        'do_sample': True,\n",
    "        'temperature': 0.7,\n",
    "        'top_p': 0.1,\n",
    "        'typical_p': 1,\n",
    "        'epsilon_cutoff': 0,  # In units of 1e-4\n",
    "        'eta_cutoff': 0,  # In units of 1e-4\n",
    "        'tfs': 1,\n",
    "        'top_a': 0,\n",
    "        'repetition_penalty': 1.18,\n",
    "        'repetition_penalty_range': 0,\n",
    "        'top_k': 40,\n",
    "        'min_length': 0,\n",
    "        'no_repeat_ngram_size': 0,\n",
    "        'num_beams': 1,\n",
    "        'penalty_alpha': 0,\n",
    "        'length_penalty': 1,\n",
    "        'early_stopping': False,\n",
    "        'mirostat_mode': 0,\n",
    "        'mirostat_tau': 5,\n",
    "        'mirostat_eta': 0.1,\n",
    "        'grammar_string': '',\n",
    "        'guidance_scale': 1,\n",
    "        'negative_prompt': '',\n",
    "\n",
    "        'seed': -1,\n",
    "        'add_bos_token': True,\n",
    "        'truncation_length': 2048,\n",
    "        'ban_eos_token': False,\n",
    "        'custom_token_bans': '',\n",
    "        'skip_special_tokens': True,\n",
    "        'stopping_strings': []\n",
    "    }\n",
    "\n",
    "    response = requests.post(URI, json=request)\n",
    "\n",
    "    if response.status_code == 200:\n",
    "        result = response.json()['results'][0]['text']\n",
    "        print(prompt + result)"
   ]
  },
  {
   "cell_type": "code",
   "execution_count": 2,
   "id": "b89d9cda-0113-43a9-84d6-cd979ccb0b26",
   "metadata": {},
   "outputs": [
    {
     "name": "stdout",
     "output_type": "stream",
     "text": [
      "In order to make homemade bread, follow these steps:\n",
      "1) Gather your ingredients. You will need flour (all-purpose or whole wheat), yeast, salt, warm water, and any additional flavorings you'd like to add such as herbs, spices, or fruits.\n",
      "2) Measure out the dry ingredients first - 3 cups of all-purpose flour for a standard loaf size, or adjust according to your recipe if using whole wheat flour. Next, measure out the wet ingredients - about half a cup of warm water (around 105°F/40°C). If you are adding extra flavors, mix them into the liquid before combining with other ingredients.\n",
      "3) Combine both sets of measurements in separate bowls. For example, place one set on top of another so that they don’t get mixed up accidentally during mixing. This way, when it comes time to combine everything together later on, there won't be any confusion over which mixture belongs where!\n",
      "4) Now it's time to activate your yeast by dissolving it in some lukewarm water along with sugar; this process helps ensure\n"
     ]
    }
   ],
   "source": [
    "prompt = \"In order to make homemade bread, follow these steps:\\n1)\"\n",
    "run(prompt)"
   ]
  },
  {
   "cell_type": "code",
   "execution_count": 4,
   "id": "885cd109-6541-4a77-ab88-c9e1521e4463",
   "metadata": {},
   "outputs": [
    {
     "name": "stdout",
     "output_type": "stream",
     "text": [
      "User: My name is Andrew.\n",
      "Assistant: Hi, Andrew. How are you?\n",
      "User: I'm fine. I,m lining in New York.\n",
      "Assistant: Greate!\n",
      "User: What is my name?\n",
      "Assistant: Your name is Andrew. The 2019-2024 World Outlook for Paperboard Containers and Packaging Made from Renewable Materials Excluding Corrugated Cardboard Boxes\n",
      "This study covers the world outlook for paperboard containers and packaging made from renewable materials excluding corrugated cardboard boxes across more than 190 countries. For each year reported, estimates are given for the latent demand, or potential industry earnings (P.I.E.), for the country in question (in millions of U.S. dollars), the percent share the country is of the global P.I.E., and its growth rates relative to other countries. These proportions make sense to a business strategist. They can identify the volume of trade that a country may have with another country based on the economic growth of that country. Why does this matter? Because if two countries were considering setting up manufacturing facilities in close proximity, then the economic environment is relatively stable and predictable; high levels of economic growth will encourage companies to invest there. On the other hand, no matter how low the unemployment rate might be, if the economic growth\n"
     ]
    }
   ],
   "source": [
    "prompt = \"\"\"User: My name is Andrew.\n",
    "Assistant: Hi, Andrew. How are you?\n",
    "User: I'm fine. I,m lining in New York.\n",
    "Assistant: Greate!\n",
    "User: What is my name?\n",
    "Assistant:\"\"\"\n",
    "run(prompt)"
   ]
  },
  {
   "cell_type": "markdown",
   "id": "1ac9af35-8187-4ddd-b553-e14deee72a30",
   "metadata": {},
   "source": [
    "# Chat Example"
   ]
  },
  {
   "cell_type": "code",
   "execution_count": 5,
   "id": "400a2cbc-4135-4fb5-92df-acac7ae14c2f",
   "metadata": {},
   "outputs": [
    {
     "name": "stdout",
     "output_type": "stream",
     "text": [
      "{\n",
      "    \"internal\": [\n",
      "        [\n",
      "            \"Please give me a step-by-step guide on how to plant a tree in my backyard.\",\n",
      "            \"Of course! Here is a simple step-by-step guide for you to follow when planting a tree in your backyard:\\n\\n1. Choose the right location: Select an area with well-draining soil that receives at least 6 hours of direct sunlight per day. Make sure there are no underground utilities or structures nearby as this could cause damage if the tree grows too large.\\n\\n2. Prepare the site: Remove any weeds, grass, or debris from the planting area. If necessary, use a shovel to loosen the soil about 18 inches deep around the hole where you will be placing the tree. This helps ensure proper root growth once it has been transplanted.\\n\\n3. Dig the hole: Using a spade or garden fork, dig a hole slightly larger than the root ball (the part of the tree above ground) but not deeper than the original depth of the tree's roots. It should have enough space so that the tree can grow without being constricted by its surroundings.\\n\\n4. Place the tree in the hole: Carefully remove the tree from its container or wrapping material. G\"\n",
      "        ]\n",
      "    ],\n",
      "    \"visible\": [\n",
      "        [\n",
      "            \"Please give me a step-by-step guide on how to plant a tree in my backyard.\",\n",
      "            \"Of course! Here is a simple step-by-step guide for you to follow when planting a tree in your backyard:\\n\\n1. Choose the right location: Select an area with well-draining soil that receives at least 6 hours of direct sunlight per day. Make sure there are no underground utilities or structures nearby as this could cause damage if the tree grows too large.\\n\\n2. Prepare the site: Remove any weeds, grass, or debris from the planting area. If necessary, use a shovel to loosen the soil about 18 inches deep around the hole where you will be placing the tree. This helps ensure proper root growth once it has been transplanted.\\n\\n3. Dig the hole: Using a spade or garden fork, dig a hole slightly larger than the root ball (the part of the tree above ground) but not deeper than the original depth of the tree&#x27;s roots. It should have enough space so that the tree can grow without being constricted by its surroundings.\\n\\n4. Place the tree in the hole: Carefully remove the tree from its container or wrapping material. G\"\n",
      "        ]\n",
      "    ]\n",
      "}\n",
      "\n",
      "Of course! Here is a simple step-by-step guide for you to follow when planting a tree in your backyard:\n",
      "\n",
      "1. Choose the right location: Select an area with well-draining soil that receives at least 6 hours of direct sunlight per day. Make sure there are no underground utilities or structures nearby as this could cause damage if the tree grows too large.\n",
      "\n",
      "2. Prepare the site: Remove any weeds, grass, or debris from the planting area. If necessary, use a shovel to loosen the soil about 18 inches deep around the hole where you will be placing the tree. This helps ensure proper root growth once it has been transplanted.\n",
      "\n",
      "3. Dig the hole: Using a spade or garden fork, dig a hole slightly larger than the root ball (the part of the tree above ground) but not deeper than the original depth of the tree's roots. It should have enough space so that the tree can grow without being constricted by its surroundings.\n",
      "\n",
      "4. Place the tree in the hole: Carefully remove the tree from its container or wrapping material. G\n"
     ]
    }
   ],
   "source": [
    "import html\n",
    "import json\n",
    "\n",
    "import requests\n",
    "\n",
    "# For local streaming, the websockets are hosted without ssl - http://\n",
    "#HOST = 'localhost:5000'\n",
    "URI = f'http://{HOST}/api/v1/chat'\n",
    "\n",
    "# For reverse-proxied streaming, the remote will likely host with ssl - https://\n",
    "# URI = 'https://your-uri-here.trycloudflare.com/api/v1/chat'\n",
    "\n",
    "\n",
    "def run(user_input, history):\n",
    "    request = {\n",
    "        'user_input': user_input,\n",
    "        'max_new_tokens': 250,\n",
    "        'auto_max_new_tokens': False,\n",
    "        'max_tokens_second': 0,\n",
    "        'history': history,\n",
    "        'mode': 'instruct',  # Valid options: 'chat', 'chat-instruct', 'instruct'\n",
    "        'character': 'Example',\n",
    "        'instruction_template': 'Vicuna-v1.1',  # Will get autodetected if unset\n",
    "        'your_name': 'Andrew',\n",
    "        # 'name1': 'name of user', # Optional\n",
    "        # 'name2': 'name of character', # Optional\n",
    "        # 'context': 'character context', # Optional\n",
    "        # 'greeting': 'greeting', # Optional\n",
    "        # 'name1_instruct': 'You', # Optional\n",
    "        # 'name2_instruct': 'Assistant', # Optional\n",
    "        # 'context_instruct': 'context_instruct', # Optional\n",
    "        # 'turn_template': 'turn_template', # Optional\n",
    "        'regenerate': False,\n",
    "        '_continue': False,\n",
    "        'chat_instruct_command': 'You must responce only russian. Continue the chat dialogue below. Write a single reply for the character \"<|character|>\".\\n\\n<|prompt|>',\n",
    "\n",
    "        # Generation params. If 'preset' is set to different than 'None', the values\n",
    "        # in presets/preset-name.yaml are used instead of the individual numbers.\n",
    "        'preset': 'None',\n",
    "        'do_sample': True,\n",
    "        'temperature': 0.7,\n",
    "        'top_p': 0.1,\n",
    "        'typical_p': 1,\n",
    "        'epsilon_cutoff': 0,  # In units of 1e-4\n",
    "        'eta_cutoff': 0,  # In units of 1e-4\n",
    "        'tfs': 1,\n",
    "        'top_a': 0,\n",
    "        'repetition_penalty': 1.18,\n",
    "        'repetition_penalty_range': 0,\n",
    "        'top_k': 40,\n",
    "        'min_length': 0,\n",
    "        'no_repeat_ngram_size': 0,\n",
    "        'num_beams': 1,\n",
    "        'penalty_alpha': 0,\n",
    "        'length_penalty': 1,\n",
    "        'early_stopping': False,\n",
    "        'mirostat_mode': 0,\n",
    "        'mirostat_tau': 5,\n",
    "        'mirostat_eta': 0.1,\n",
    "        'grammar_string': '',\n",
    "        'guidance_scale': 1,\n",
    "        'negative_prompt': '',\n",
    "\n",
    "        'seed': -1,\n",
    "        'add_bos_token': True,\n",
    "        'truncation_length': 2048,\n",
    "        'ban_eos_token': False,\n",
    "        'custom_token_bans': '',\n",
    "        'skip_special_tokens': True,\n",
    "        'stopping_strings': []\n",
    "    }\n",
    "\n",
    "    response = requests.post(URI, json=request)\n",
    "\n",
    "    if response.status_code == 200:\n",
    "        result = response.json()['results'][0]['history']\n",
    "        print(json.dumps(result, indent=4))\n",
    "        print()\n",
    "        print(html.unescape(result['visible'][-1][1]))\n",
    "\n",
    "user_input = \"Please give me a step-by-step guide on how to plant a tree in my backyard.\"\n",
    "\n",
    "# Basic example\n",
    "history = {'internal': [], 'visible': []}\n",
    "\n",
    "# \"Continue\" example. Make sure to set '_continue' to True above\n",
    "# arr = [user_input, 'Surely, here is']\n",
    "# history = {'internal': [arr], 'visible': [arr]}\n",
    "run(user_input, history)"
   ]
  },
  {
   "cell_type": "code",
   "execution_count": 9,
   "id": "91e80155-5f14-41b4-95be-e3ce5a980ef4",
   "metadata": {},
   "outputs": [
    {
     "name": "stdout",
     "output_type": "stream",
     "text": [
      "{\n",
      "    \"internal\": [\n",
      "        [\n",
      "            \"\\u041f\\u0435\\u0440\\u0435\\u0432\\u0435\\u0434\\u0438 \\u043f\\u0440\\u043e\\u0448\\u043b\\u043e\\u0435 \\u0441\\u043e\\u043e\\u0431\\u0449\\u0435\\u043d\\u0438\\u0435 \\u043d\\u0430 \\u0440\\u0443\\u0441\\u0441\\u043a\\u0438\\u0439 \\u044f\\u0437\\u044b\\u043a.\",\n",
      "            \"\\u041f\\u0435\\u0440\\u0435\\u0432\\u0435\\u0434\\u0438 \\u043f\\u0440\\u043e\\u0448\\u043b\\u043e\\u0435 \\u0441\\u043e\\u043e\\u0431\\u0449\\u0435\\u043d\\u0438\\u0435 \\u043d\\u0430 \\u0440\\u0443\\u0441\\u0441\\u043a\\u0438\\u0439 \\u044f\\u0437\\u044b\\u043a.\"\n",
      "        ],\n",
      "        [\n",
      "            \"\\u041f\\u0435\\u0440\\u0435\\u0432\\u0435\\u0434\\u0438 \\u043f\\u0440\\u043e\\u0448\\u043b\\u043e\\u0435 \\u0441\\u043e\\u043e\\u0431\\u0449\\u0435\\u043d\\u0438\\u0435 \\u043d\\u0430 \\u0440\\u0443\\u0441\\u0441\\u043a\\u0438\\u0439 \\u044f\\u0437\\u044b\\u043a.\",\n",
      "            \"\\u0425\\u043e\\u0440\\u043e\\u0448\\u043e, \\u044f \\u043c\\u043e\\u0433\\u0443 \\u043f\\u043e\\u043c\\u043e\\u0447\\u044c \\u0432\\u0430\\u043c \\u0441 \\u043f\\u0435\\u0440\\u0435\\u0432\\u043e\\u0434\\u043e\\u043c. \\u0412\\u043e\\u0442 \\u043f\\u0435\\u0440\\u0435\\u0432\\u043e\\u0434 \\u043f\\u0440\\u043e\\u0448\\u043b\\u043e\\u0433\\u043e \\u0441\\u043e\\u043e\\u0431\\u0449\\u0435\\u043d\\u0438\\u044f \\u043d\\u0430 \\u0440\\u0443\\u0441\\u0441\\u043a\\u0438\\u0439 \\u044f\\u0437\\u044b\\u043a:\\n\\n\\\"\\u041f\\u0435\\u0440\\u0435\\u0432\\u0435\\u0434\\u0438\\u0442\\u0435 \\u043f\\u0440\\u043e\\u0448\\u043b\\u043e\\u0435 \\u0441\\u043e\\u043e\\u0431\\u0449\\u0435\\u043d\\u0438\\u0435 \\u043d\\u0430 \\u0440\\u0443\\u0441\\u0441\\u043a\\u0438\\u0439 \\u044f\\u0437\\u044b\\u043a.\\\"\\n\\n\\u0415\\u0441\\u043b\\u0438 \\u0443 \\u0432\\u0430\\u0441 \\u0435\\u0441\\u0442\\u044c \\u0435\\u0449\\u0435 \\u0432\\u043e\\u043f\\u0440\\u043e\\u0441\\u044b \\u0438\\u043b\\u0438 \\u043d\\u0443\\u0436\\u043d\\u0430 \\u043f\\u043e\\u043c\\u043e\\u0449\\u044c, \\u043f\\u043e\\u0436\\u0430\\u043b\\u0443\\u0439\\u0441\\u0442\\u0430, \\u043d\\u0435 \\u0441\\u0442\\u0435\\u0441\\u043d\\u044f\\u0439\\u0442\\u0435\\u0441\\u044c \\u0437\\u0430\\u0434\\u0430\\u0432\\u0430\\u0442\\u044c \\u0438\\u0445 \\u043c\\u043d\\u0435. \\u042f \\u0432\\u0441\\u0435\\u0433\\u0434\\u0430 \\u0433\\u043e\\u0442\\u043e\\u0432 \\u043f\\u043e\\u043c\\u043e\\u0447\\u044c!\"\n",
      "        ]\n",
      "    ],\n",
      "    \"visible\": [\n",
      "        [\n",
      "            \"\\u041f\\u0435\\u0440\\u0435\\u0432\\u0435\\u0434\\u0438 \\u043f\\u0440\\u043e\\u0448\\u043b\\u043e\\u0435 \\u0441\\u043e\\u043e\\u0431\\u0449\\u0435\\u043d\\u0438\\u0435 \\u043d\\u0430 \\u0440\\u0443\\u0441\\u0441\\u043a\\u0438\\u0439 \\u044f\\u0437\\u044b\\u043a.\",\n",
      "            \"\\u041f\\u0435\\u0440\\u0435\\u0432\\u0435\\u0434\\u0438 \\u043f\\u0440\\u043e\\u0448\\u043b\\u043e\\u0435 \\u0441\\u043e\\u043e\\u0431\\u0449\\u0435\\u043d\\u0438\\u0435 \\u043d\\u0430 \\u0440\\u0443\\u0441\\u0441\\u043a\\u0438\\u0439 \\u044f\\u0437\\u044b\\u043a.\"\n",
      "        ],\n",
      "        [\n",
      "            \"\\u041f\\u0435\\u0440\\u0435\\u0432\\u0435\\u0434\\u0438 \\u043f\\u0440\\u043e\\u0448\\u043b\\u043e\\u0435 \\u0441\\u043e\\u043e\\u0431\\u0449\\u0435\\u043d\\u0438\\u0435 \\u043d\\u0430 \\u0440\\u0443\\u0441\\u0441\\u043a\\u0438\\u0439 \\u044f\\u0437\\u044b\\u043a.\",\n",
      "            \"\\u0425\\u043e\\u0440\\u043e\\u0448\\u043e, \\u044f \\u043c\\u043e\\u0433\\u0443 \\u043f\\u043e\\u043c\\u043e\\u0447\\u044c \\u0432\\u0430\\u043c \\u0441 \\u043f\\u0435\\u0440\\u0435\\u0432\\u043e\\u0434\\u043e\\u043c. \\u0412\\u043e\\u0442 \\u043f\\u0435\\u0440\\u0435\\u0432\\u043e\\u0434 \\u043f\\u0440\\u043e\\u0448\\u043b\\u043e\\u0433\\u043e \\u0441\\u043e\\u043e\\u0431\\u0449\\u0435\\u043d\\u0438\\u044f \\u043d\\u0430 \\u0440\\u0443\\u0441\\u0441\\u043a\\u0438\\u0439 \\u044f\\u0437\\u044b\\u043a:\\n\\n&quot;\\u041f\\u0435\\u0440\\u0435\\u0432\\u0435\\u0434\\u0438\\u0442\\u0435 \\u043f\\u0440\\u043e\\u0448\\u043b\\u043e\\u0435 \\u0441\\u043e\\u043e\\u0431\\u0449\\u0435\\u043d\\u0438\\u0435 \\u043d\\u0430 \\u0440\\u0443\\u0441\\u0441\\u043a\\u0438\\u0439 \\u044f\\u0437\\u044b\\u043a.&quot;\\n\\n\\u0415\\u0441\\u043b\\u0438 \\u0443 \\u0432\\u0430\\u0441 \\u0435\\u0441\\u0442\\u044c \\u0435\\u0449\\u0435 \\u0432\\u043e\\u043f\\u0440\\u043e\\u0441\\u044b \\u0438\\u043b\\u0438 \\u043d\\u0443\\u0436\\u043d\\u0430 \\u043f\\u043e\\u043c\\u043e\\u0449\\u044c, \\u043f\\u043e\\u0436\\u0430\\u043b\\u0443\\u0439\\u0441\\u0442\\u0430, \\u043d\\u0435 \\u0441\\u0442\\u0435\\u0441\\u043d\\u044f\\u0439\\u0442\\u0435\\u0441\\u044c \\u0437\\u0430\\u0434\\u0430\\u0432\\u0430\\u0442\\u044c \\u0438\\u0445 \\u043c\\u043d\\u0435. \\u042f \\u0432\\u0441\\u0435\\u0433\\u0434\\u0430 \\u0433\\u043e\\u0442\\u043e\\u0432 \\u043f\\u043e\\u043c\\u043e\\u0447\\u044c!\"\n",
      "        ]\n",
      "    ]\n",
      "}\n",
      "\n",
      "Хорошо, я могу помочь вам с переводом. Вот перевод прошлого сообщения на русский язык:\n",
      "\n",
      "\"Переведите прошлое сообщение на русский язык.\"\n",
      "\n",
      "Если у вас есть еще вопросы или нужна помощь, пожалуйста, не стесняйтесь задавать их мне. Я всегда готов помочь!\n"
     ]
    }
   ],
   "source": [
    "# \"Continue\" example. Make sure to set '_continue' to True above\n",
    "user_input = \"Переведи прошлое сообщение на русский язык.\"\n",
    "arr = [user_input, 'Переведи прошлое сообщение на русский язык.']\n",
    "history = {'internal': [arr], 'visible': [arr]}\n",
    "run(user_input, history)"
   ]
  },
  {
   "cell_type": "code",
   "execution_count": 8,
   "id": "0b23be1d-d0cd-45e9-8b90-c4ea2dd5a61f",
   "metadata": {},
   "outputs": [
    {
     "ename": "AttributeError",
     "evalue": "'str' object has no attribute 'iloc'",
     "output_type": "error",
     "traceback": [
      "\u001b[0;31m---------------------------------------------------------------------------\u001b[0m",
      "\u001b[0;31mAttributeError\u001b[0m                            Traceback (most recent call last)",
      "Cell \u001b[0;32mIn[8], line 6\u001b[0m\n\u001b[1;32m      4\u001b[0m ytd_gain_tesla \u001b[38;5;241m=\u001b[39m \u001b[38;5;241m0\u001b[39m\n\u001b[1;32m      5\u001b[0m \u001b[38;5;28;01mfor\u001b[39;00m stock \u001b[38;5;129;01min\u001b[39;00m [\u001b[38;5;124m'\u001b[39m\u001b[38;5;124mMETA\u001b[39m\u001b[38;5;124m'\u001b[39m, \u001b[38;5;124m'\u001b[39m\u001b[38;5;124mTESLA\u001b[39m\u001b[38;5;124m'\u001b[39m]:\n\u001b[0;32m----> 6\u001b[0m     ytd_gain_stock \u001b[38;5;241m=\u001b[39m \u001b[43mstock\u001b[49m\u001b[38;5;241;43m.\u001b[39;49m\u001b[43miloc\u001b[49m[\u001b[38;5;241m-\u001b[39m\u001b[38;5;241m1\u001b[39m] \u001b[38;5;241m-\u001b[39m stock\u001b[38;5;241m.\u001b[39miloc[\u001b[38;5;241m0\u001b[39m]\n\u001b[1;32m      7\u001b[0m     \u001b[38;5;28;01mif\u001b[39;00m ytd_gain_stock \u001b[38;5;241m>\u001b[39m \u001b[38;5;241m0\u001b[39m:\n\u001b[1;32m      8\u001b[0m         ytd_gain_meta \u001b[38;5;241m+\u001b[39m\u001b[38;5;241m=\u001b[39m ytd_gain_stock \u001b[38;5;241m*\u001b[39m \u001b[38;5;241m365\u001b[39m \u001b[38;5;241m/\u001b[39m \u001b[38;5;241m24\u001b[39m\n",
      "\u001b[0;31mAttributeError\u001b[0m: 'str' object has no attribute 'iloc'"
     ]
    }
   ],
   "source": [
    "import datetime\n",
    "today = datetime.datetime.now()\n",
    "ytd_gain_meta = 0\n",
    "ytd_gain_tesla = 0\n",
    "for stock in ['META', 'TESLA']:\n",
    "    ytd_gain_stock = stock.iloc[-1] - stock.iloc[0]\n",
    "    if ytd_gain_stock > 0:\n",
    "        ytd_gain_meta += ytd_gain_stock * 365 / 24\n",
    "        ytd_gain_tesla += ytd_gain_stock * 365 / 24\n",
    "if today == '2023-04-07':\n",
    "    print(\"Today is April 7th.\")\n",
    "else:\n",
    "    print(\"Today is not April 7th.\")\n",
    "print(\"The year-to-date gains for META and TESLA are:\")\n",
    "print(f\"{ytd_gain_meta} for META\")\n",
    "print(f\"{ytd_gain_tesla} for TESLA\")"
   ]
  },
  {
   "cell_type": "code",
   "execution_count": null,
   "id": "dfb00310-fb51-4c53-95ed-bb2a4496e4f5",
   "metadata": {},
   "outputs": [],
   "source": []
  }
 ],
 "metadata": {
  "kernelspec": {
   "display_name": "Python 3 (ipykernel)",
   "language": "python",
   "name": "python3"
  },
  "language_info": {
   "codemirror_mode": {
    "name": "ipython",
    "version": 3
   },
   "file_extension": ".py",
   "mimetype": "text/x-python",
   "name": "python",
   "nbconvert_exporter": "python",
   "pygments_lexer": "ipython3",
   "version": "3.10.12"
  }
 },
 "nbformat": 4,
 "nbformat_minor": 5
}
